{
  "nbformat": 4,
  "nbformat_minor": 0,
  "metadata": {
    "colab": {
      "provenance": [],
      "include_colab_link": true
    },
    "kernelspec": {
      "name": "python3",
      "display_name": "Python 3"
    },
    "language_info": {
      "name": "python"
    }
  },
  "cells": [
    {
      "cell_type": "markdown",
      "metadata": {
        "id": "view-in-github",
        "colab_type": "text"
      },
      "source": [
        "<a href=\"https://colab.research.google.com/github/paliwalpiyush151/Molecular_Simulations/blob/main/Copy_of_MiniProject_3_LJ_Fluid.ipynb\" target=\"_parent\"><img src=\"https://colab.research.google.com/assets/colab-badge.svg\" alt=\"Open In Colab\"/></a>"
      ]
    },
    {
      "cell_type": "markdown",
      "metadata": {
        "id": "IJTMH3vszqOV"
      },
      "source": [
        "##**Mini Project-3**\n",
        "## Name : Piyush Paliwal\n",
        "## Roll Number: 17180\n",
        "\n",
        "\n",
        "## Computing Equation of state of LJ fluid at T = 2.0   (P Vs $\\rho$)  for system with N = 100"
      ]
    },
    {
      "cell_type": "code",
      "metadata": {
        "id": "YorQkDwmyY6-"
      },
      "source": [
        "# Steps of Lenard Jones Fluid Simulations:\n",
        "\n",
        "# initialization\n",
        "\n",
        "def initialize(rx,ry,rz,n,L):\n",
        "  n3 =2\n",
        "  while(pow(n3,3) < n):\n",
        "    n3+=1\n",
        "\n",
        "  ix,iy,iz = 0,0,0\n",
        "  for i in range(n):\n",
        "    rx[i] = (1.0*ix+0.5)*L/n3\n",
        "    ry[i] = (1.0*iy+0.5)*L/n3\n",
        "    rz[i] = (1.0*iz+0.5)*L/n3\n",
        "    ix+=1\n",
        "    if(ix==n3):\n",
        "      ix =0\n",
        "      iy+=1\n",
        "      if (iy==n3):\n",
        "        iy =0\n",
        "        iz+=1"
      ],
      "execution_count": null,
      "outputs": []
    },
    {
      "cell_type": "code",
      "metadata": {
        "id": "A8GSUTwizZCn"
      },
      "source": [
        "N = 100\n",
        "T = 2.0\n",
        "rho = 0.5\n",
        "rx = list()\n",
        "ry = list()\n",
        "rz = list()\n",
        "\n",
        "for i in range(N):\n",
        "  rx.append(0)\n",
        "  ry.append(0)\n",
        "  rz.append(0)\n",
        "\n",
        "L = pow(N/rho,0.33333)\n",
        "initialize(rx,ry,rz,N,L)"
      ],
      "execution_count": null,
      "outputs": []
    },
    {
      "cell_type": "code",
      "metadata": {
        "colab": {
          "base_uri": "https://localhost:8080/",
          "height": 559
        },
        "id": "sZUKR33n0LlH",
        "outputId": "5d31fdb3-2efd-4b86-c2b3-200507cec8ad"
      },
      "source": [
        "print('Initial position of particles')\n",
        "import plotly.express as px\n",
        "fig = px.scatter_3d(x=rx, y=ry, z=rz)\n",
        "fig.show()"
      ],
      "execution_count": null,
      "outputs": [
        {
          "output_type": "stream",
          "text": [
            "Initial position of particles\n"
          ],
          "name": "stdout"
        },
        {
          "output_type": "display_data",
          "data": {
            "text/html": [
              "<html>\n",
              "<head><meta charset=\"utf-8\" /></head>\n",
              "<body>\n",
              "    <div>\n",
              "            <script src=\"https://cdnjs.cloudflare.com/ajax/libs/mathjax/2.7.5/MathJax.js?config=TeX-AMS-MML_SVG\"></script><script type=\"text/javascript\">if (window.MathJax) {MathJax.Hub.Config({SVG: {font: \"STIX-Web\"}});}</script>\n",
              "                <script type=\"text/javascript\">window.PlotlyConfig = {MathJaxConfig: 'local'};</script>\n",
              "        <script src=\"https://cdn.plot.ly/plotly-latest.min.js\"></script>    \n",
              "            <div id=\"94333871-751a-4bff-b403-c9f7e60d5acd\" class=\"plotly-graph-div\" style=\"height:525px; width:100%;\"></div>\n",
              "            <script type=\"text/javascript\">\n",
              "                \n",
              "                    window.PLOTLYENV=window.PLOTLYENV || {};\n",
              "                    \n",
              "                if (document.getElementById(\"94333871-751a-4bff-b403-c9f7e60d5acd\")) {\n",
              "                    Plotly.newPlot(\n",
              "                        '94333871-751a-4bff-b403-c9f7e60d5acd',\n",
              "                        [{\"hoverlabel\": {\"namelength\": 0}, \"hovertemplate\": \"x=%{x}<br>y=%{y}<br>z=%{z}\", \"legendgroup\": \"\", \"marker\": {\"color\": \"#636efa\", \"symbol\": \"circle\"}, \"mode\": \"markers\", \"name\": \"\", \"scene\": \"scene\", \"showlegend\": false, \"type\": \"scatter3d\", \"x\": [0.5847932194844683, 1.754379658453405, 2.9239660974223414, 4.093552536391278, 5.2631389753602145, 0.5847932194844683, 1.754379658453405, 2.9239660974223414, 4.093552536391278, 5.2631389753602145, 0.5847932194844683, 1.754379658453405, 2.9239660974223414, 4.093552536391278, 5.2631389753602145, 0.5847932194844683, 1.754379658453405, 2.9239660974223414, 4.093552536391278, 5.2631389753602145, 0.5847932194844683, 1.754379658453405, 2.9239660974223414, 4.093552536391278, 5.2631389753602145, 0.5847932194844683, 1.754379658453405, 2.9239660974223414, 4.093552536391278, 5.2631389753602145, 0.5847932194844683, 1.754379658453405, 2.9239660974223414, 4.093552536391278, 5.2631389753602145, 0.5847932194844683, 1.754379658453405, 2.9239660974223414, 4.093552536391278, 5.2631389753602145, 0.5847932194844683, 1.754379658453405, 2.9239660974223414, 4.093552536391278, 5.2631389753602145, 0.5847932194844683, 1.754379658453405, 2.9239660974223414, 4.093552536391278, 5.2631389753602145, 0.5847932194844683, 1.754379658453405, 2.9239660974223414, 4.093552536391278, 5.2631389753602145, 0.5847932194844683, 1.754379658453405, 2.9239660974223414, 4.093552536391278, 5.2631389753602145, 0.5847932194844683, 1.754379658453405, 2.9239660974223414, 4.093552536391278, 5.2631389753602145, 0.5847932194844683, 1.754379658453405, 2.9239660974223414, 4.093552536391278, 5.2631389753602145, 0.5847932194844683, 1.754379658453405, 2.9239660974223414, 4.093552536391278, 5.2631389753602145, 0.5847932194844683, 1.754379658453405, 2.9239660974223414, 4.093552536391278, 5.2631389753602145, 0.5847932194844683, 1.754379658453405, 2.9239660974223414, 4.093552536391278, 5.2631389753602145, 0.5847932194844683, 1.754379658453405, 2.9239660974223414, 4.093552536391278, 5.2631389753602145, 0.5847932194844683, 1.754379658453405, 2.9239660974223414, 4.093552536391278, 5.2631389753602145, 0.5847932194844683, 1.754379658453405, 2.9239660974223414, 4.093552536391278, 5.2631389753602145], \"y\": [0.5847932194844683, 0.5847932194844683, 0.5847932194844683, 0.5847932194844683, 0.5847932194844683, 1.754379658453405, 1.754379658453405, 1.754379658453405, 1.754379658453405, 1.754379658453405, 2.9239660974223414, 2.9239660974223414, 2.9239660974223414, 2.9239660974223414, 2.9239660974223414, 4.093552536391278, 4.093552536391278, 4.093552536391278, 4.093552536391278, 4.093552536391278, 5.2631389753602145, 5.2631389753602145, 5.2631389753602145, 5.2631389753602145, 5.2631389753602145, 0.5847932194844683, 0.5847932194844683, 0.5847932194844683, 0.5847932194844683, 0.5847932194844683, 1.754379658453405, 1.754379658453405, 1.754379658453405, 1.754379658453405, 1.754379658453405, 2.9239660974223414, 2.9239660974223414, 2.9239660974223414, 2.9239660974223414, 2.9239660974223414, 4.093552536391278, 4.093552536391278, 4.093552536391278, 4.093552536391278, 4.093552536391278, 5.2631389753602145, 5.2631389753602145, 5.2631389753602145, 5.2631389753602145, 5.2631389753602145, 0.5847932194844683, 0.5847932194844683, 0.5847932194844683, 0.5847932194844683, 0.5847932194844683, 1.754379658453405, 1.754379658453405, 1.754379658453405, 1.754379658453405, 1.754379658453405, 2.9239660974223414, 2.9239660974223414, 2.9239660974223414, 2.9239660974223414, 2.9239660974223414, 4.093552536391278, 4.093552536391278, 4.093552536391278, 4.093552536391278, 4.093552536391278, 5.2631389753602145, 5.2631389753602145, 5.2631389753602145, 5.2631389753602145, 5.2631389753602145, 0.5847932194844683, 0.5847932194844683, 0.5847932194844683, 0.5847932194844683, 0.5847932194844683, 1.754379658453405, 1.754379658453405, 1.754379658453405, 1.754379658453405, 1.754379658453405, 2.9239660974223414, 2.9239660974223414, 2.9239660974223414, 2.9239660974223414, 2.9239660974223414, 4.093552536391278, 4.093552536391278, 4.093552536391278, 4.093552536391278, 4.093552536391278, 5.2631389753602145, 5.2631389753602145, 5.2631389753602145, 5.2631389753602145, 5.2631389753602145], \"z\": [0.5847932194844683, 0.5847932194844683, 0.5847932194844683, 0.5847932194844683, 0.5847932194844683, 0.5847932194844683, 0.5847932194844683, 0.5847932194844683, 0.5847932194844683, 0.5847932194844683, 0.5847932194844683, 0.5847932194844683, 0.5847932194844683, 0.5847932194844683, 0.5847932194844683, 0.5847932194844683, 0.5847932194844683, 0.5847932194844683, 0.5847932194844683, 0.5847932194844683, 0.5847932194844683, 0.5847932194844683, 0.5847932194844683, 0.5847932194844683, 0.5847932194844683, 1.754379658453405, 1.754379658453405, 1.754379658453405, 1.754379658453405, 1.754379658453405, 1.754379658453405, 1.754379658453405, 1.754379658453405, 1.754379658453405, 1.754379658453405, 1.754379658453405, 1.754379658453405, 1.754379658453405, 1.754379658453405, 1.754379658453405, 1.754379658453405, 1.754379658453405, 1.754379658453405, 1.754379658453405, 1.754379658453405, 1.754379658453405, 1.754379658453405, 1.754379658453405, 1.754379658453405, 1.754379658453405, 2.9239660974223414, 2.9239660974223414, 2.9239660974223414, 2.9239660974223414, 2.9239660974223414, 2.9239660974223414, 2.9239660974223414, 2.9239660974223414, 2.9239660974223414, 2.9239660974223414, 2.9239660974223414, 2.9239660974223414, 2.9239660974223414, 2.9239660974223414, 2.9239660974223414, 2.9239660974223414, 2.9239660974223414, 2.9239660974223414, 2.9239660974223414, 2.9239660974223414, 2.9239660974223414, 2.9239660974223414, 2.9239660974223414, 2.9239660974223414, 2.9239660974223414, 4.093552536391278, 4.093552536391278, 4.093552536391278, 4.093552536391278, 4.093552536391278, 4.093552536391278, 4.093552536391278, 4.093552536391278, 4.093552536391278, 4.093552536391278, 4.093552536391278, 4.093552536391278, 4.093552536391278, 4.093552536391278, 4.093552536391278, 4.093552536391278, 4.093552536391278, 4.093552536391278, 4.093552536391278, 4.093552536391278, 4.093552536391278, 4.093552536391278, 4.093552536391278, 4.093552536391278, 4.093552536391278]}],\n",
              "                        {\"legend\": {\"tracegroupgap\": 0}, \"margin\": {\"t\": 60}, \"scene\": {\"domain\": {\"x\": [0.0, 1.0], \"y\": [0.0, 1.0]}, \"xaxis\": {\"title\": {\"text\": \"x\"}}, \"yaxis\": {\"title\": {\"text\": \"y\"}}, \"zaxis\": {\"title\": {\"text\": \"z\"}}}, \"template\": {\"data\": {\"bar\": [{\"error_x\": {\"color\": \"#2a3f5f\"}, \"error_y\": {\"color\": \"#2a3f5f\"}, \"marker\": {\"line\": {\"color\": \"#E5ECF6\", \"width\": 0.5}}, \"type\": \"bar\"}], \"barpolar\": [{\"marker\": {\"line\": {\"color\": \"#E5ECF6\", \"width\": 0.5}}, \"type\": \"barpolar\"}], \"carpet\": [{\"aaxis\": {\"endlinecolor\": \"#2a3f5f\", \"gridcolor\": \"white\", \"linecolor\": \"white\", \"minorgridcolor\": \"white\", \"startlinecolor\": \"#2a3f5f\"}, \"baxis\": {\"endlinecolor\": \"#2a3f5f\", \"gridcolor\": \"white\", \"linecolor\": \"white\", \"minorgridcolor\": \"white\", \"startlinecolor\": \"#2a3f5f\"}, \"type\": \"carpet\"}], \"choropleth\": [{\"colorbar\": {\"outlinewidth\": 0, \"ticks\": \"\"}, \"type\": \"choropleth\"}], \"contour\": [{\"colorbar\": {\"outlinewidth\": 0, \"ticks\": \"\"}, \"colorscale\": [[0.0, \"#0d0887\"], [0.1111111111111111, \"#46039f\"], [0.2222222222222222, \"#7201a8\"], [0.3333333333333333, \"#9c179e\"], [0.4444444444444444, \"#bd3786\"], [0.5555555555555556, \"#d8576b\"], [0.6666666666666666, \"#ed7953\"], [0.7777777777777778, \"#fb9f3a\"], [0.8888888888888888, \"#fdca26\"], [1.0, \"#f0f921\"]], \"type\": \"contour\"}], \"contourcarpet\": [{\"colorbar\": {\"outlinewidth\": 0, \"ticks\": \"\"}, \"type\": \"contourcarpet\"}], \"heatmap\": [{\"colorbar\": {\"outlinewidth\": 0, \"ticks\": \"\"}, \"colorscale\": [[0.0, \"#0d0887\"], [0.1111111111111111, \"#46039f\"], [0.2222222222222222, \"#7201a8\"], [0.3333333333333333, \"#9c179e\"], [0.4444444444444444, \"#bd3786\"], [0.5555555555555556, \"#d8576b\"], [0.6666666666666666, \"#ed7953\"], [0.7777777777777778, \"#fb9f3a\"], [0.8888888888888888, \"#fdca26\"], [1.0, \"#f0f921\"]], \"type\": \"heatmap\"}], \"heatmapgl\": [{\"colorbar\": {\"outlinewidth\": 0, \"ticks\": \"\"}, \"colorscale\": [[0.0, \"#0d0887\"], [0.1111111111111111, \"#46039f\"], [0.2222222222222222, \"#7201a8\"], [0.3333333333333333, \"#9c179e\"], [0.4444444444444444, \"#bd3786\"], [0.5555555555555556, \"#d8576b\"], [0.6666666666666666, \"#ed7953\"], [0.7777777777777778, \"#fb9f3a\"], [0.8888888888888888, \"#fdca26\"], [1.0, \"#f0f921\"]], \"type\": \"heatmapgl\"}], \"histogram\": [{\"marker\": {\"colorbar\": {\"outlinewidth\": 0, \"ticks\": \"\"}}, \"type\": \"histogram\"}], \"histogram2d\": [{\"colorbar\": {\"outlinewidth\": 0, \"ticks\": \"\"}, \"colorscale\": [[0.0, \"#0d0887\"], [0.1111111111111111, \"#46039f\"], [0.2222222222222222, \"#7201a8\"], [0.3333333333333333, \"#9c179e\"], [0.4444444444444444, \"#bd3786\"], [0.5555555555555556, \"#d8576b\"], [0.6666666666666666, \"#ed7953\"], [0.7777777777777778, \"#fb9f3a\"], [0.8888888888888888, \"#fdca26\"], [1.0, \"#f0f921\"]], \"type\": \"histogram2d\"}], \"histogram2dcontour\": [{\"colorbar\": {\"outlinewidth\": 0, \"ticks\": \"\"}, \"colorscale\": [[0.0, \"#0d0887\"], [0.1111111111111111, \"#46039f\"], [0.2222222222222222, \"#7201a8\"], [0.3333333333333333, \"#9c179e\"], [0.4444444444444444, \"#bd3786\"], [0.5555555555555556, \"#d8576b\"], [0.6666666666666666, \"#ed7953\"], [0.7777777777777778, \"#fb9f3a\"], [0.8888888888888888, \"#fdca26\"], [1.0, \"#f0f921\"]], \"type\": \"histogram2dcontour\"}], \"mesh3d\": [{\"colorbar\": {\"outlinewidth\": 0, \"ticks\": \"\"}, \"type\": \"mesh3d\"}], \"parcoords\": [{\"line\": {\"colorbar\": {\"outlinewidth\": 0, \"ticks\": \"\"}}, \"type\": \"parcoords\"}], \"pie\": [{\"automargin\": true, \"type\": \"pie\"}], \"scatter\": [{\"marker\": {\"colorbar\": {\"outlinewidth\": 0, \"ticks\": \"\"}}, \"type\": \"scatter\"}], \"scatter3d\": [{\"line\": {\"colorbar\": {\"outlinewidth\": 0, \"ticks\": \"\"}}, \"marker\": {\"colorbar\": {\"outlinewidth\": 0, \"ticks\": \"\"}}, \"type\": \"scatter3d\"}], \"scattercarpet\": [{\"marker\": {\"colorbar\": {\"outlinewidth\": 0, \"ticks\": \"\"}}, \"type\": \"scattercarpet\"}], \"scattergeo\": [{\"marker\": {\"colorbar\": {\"outlinewidth\": 0, \"ticks\": \"\"}}, \"type\": \"scattergeo\"}], \"scattergl\": [{\"marker\": {\"colorbar\": {\"outlinewidth\": 0, \"ticks\": \"\"}}, \"type\": \"scattergl\"}], \"scattermapbox\": [{\"marker\": {\"colorbar\": {\"outlinewidth\": 0, \"ticks\": \"\"}}, \"type\": \"scattermapbox\"}], \"scatterpolar\": [{\"marker\": {\"colorbar\": {\"outlinewidth\": 0, \"ticks\": \"\"}}, \"type\": \"scatterpolar\"}], \"scatterpolargl\": [{\"marker\": {\"colorbar\": {\"outlinewidth\": 0, \"ticks\": \"\"}}, \"type\": \"scatterpolargl\"}], \"scatterternary\": [{\"marker\": {\"colorbar\": {\"outlinewidth\": 0, \"ticks\": \"\"}}, \"type\": \"scatterternary\"}], \"surface\": [{\"colorbar\": {\"outlinewidth\": 0, \"ticks\": \"\"}, \"colorscale\": [[0.0, \"#0d0887\"], [0.1111111111111111, \"#46039f\"], [0.2222222222222222, \"#7201a8\"], [0.3333333333333333, \"#9c179e\"], [0.4444444444444444, \"#bd3786\"], [0.5555555555555556, \"#d8576b\"], [0.6666666666666666, \"#ed7953\"], [0.7777777777777778, \"#fb9f3a\"], [0.8888888888888888, \"#fdca26\"], [1.0, \"#f0f921\"]], \"type\": \"surface\"}], \"table\": [{\"cells\": {\"fill\": {\"color\": \"#EBF0F8\"}, \"line\": {\"color\": \"white\"}}, \"header\": {\"fill\": {\"color\": \"#C8D4E3\"}, \"line\": {\"color\": \"white\"}}, \"type\": \"table\"}]}, \"layout\": {\"annotationdefaults\": {\"arrowcolor\": \"#2a3f5f\", \"arrowhead\": 0, \"arrowwidth\": 1}, \"coloraxis\": {\"colorbar\": {\"outlinewidth\": 0, \"ticks\": \"\"}}, \"colorscale\": {\"diverging\": [[0, \"#8e0152\"], [0.1, \"#c51b7d\"], [0.2, \"#de77ae\"], [0.3, \"#f1b6da\"], [0.4, \"#fde0ef\"], [0.5, \"#f7f7f7\"], [0.6, \"#e6f5d0\"], [0.7, \"#b8e186\"], [0.8, \"#7fbc41\"], [0.9, \"#4d9221\"], [1, \"#276419\"]], \"sequential\": [[0.0, \"#0d0887\"], [0.1111111111111111, \"#46039f\"], [0.2222222222222222, \"#7201a8\"], [0.3333333333333333, \"#9c179e\"], [0.4444444444444444, \"#bd3786\"], [0.5555555555555556, \"#d8576b\"], [0.6666666666666666, \"#ed7953\"], [0.7777777777777778, \"#fb9f3a\"], [0.8888888888888888, \"#fdca26\"], [1.0, \"#f0f921\"]], \"sequentialminus\": [[0.0, \"#0d0887\"], [0.1111111111111111, \"#46039f\"], [0.2222222222222222, \"#7201a8\"], [0.3333333333333333, \"#9c179e\"], [0.4444444444444444, \"#bd3786\"], [0.5555555555555556, \"#d8576b\"], [0.6666666666666666, \"#ed7953\"], [0.7777777777777778, \"#fb9f3a\"], [0.8888888888888888, \"#fdca26\"], [1.0, \"#f0f921\"]]}, \"colorway\": [\"#636efa\", \"#EF553B\", \"#00cc96\", \"#ab63fa\", \"#FFA15A\", \"#19d3f3\", \"#FF6692\", \"#B6E880\", \"#FF97FF\", \"#FECB52\"], \"font\": {\"color\": \"#2a3f5f\"}, \"geo\": {\"bgcolor\": \"white\", \"lakecolor\": \"white\", \"landcolor\": \"#E5ECF6\", \"showlakes\": true, \"showland\": true, \"subunitcolor\": \"white\"}, \"hoverlabel\": {\"align\": \"left\"}, \"hovermode\": \"closest\", \"mapbox\": {\"style\": \"light\"}, \"paper_bgcolor\": \"white\", \"plot_bgcolor\": \"#E5ECF6\", \"polar\": {\"angularaxis\": {\"gridcolor\": \"white\", \"linecolor\": \"white\", \"ticks\": \"\"}, \"bgcolor\": \"#E5ECF6\", \"radialaxis\": {\"gridcolor\": \"white\", \"linecolor\": \"white\", \"ticks\": \"\"}}, \"scene\": {\"xaxis\": {\"backgroundcolor\": \"#E5ECF6\", \"gridcolor\": \"white\", \"gridwidth\": 2, \"linecolor\": \"white\", \"showbackground\": true, \"ticks\": \"\", \"zerolinecolor\": \"white\"}, \"yaxis\": {\"backgroundcolor\": \"#E5ECF6\", \"gridcolor\": \"white\", \"gridwidth\": 2, \"linecolor\": \"white\", \"showbackground\": true, \"ticks\": \"\", \"zerolinecolor\": \"white\"}, \"zaxis\": {\"backgroundcolor\": \"#E5ECF6\", \"gridcolor\": \"white\", \"gridwidth\": 2, \"linecolor\": \"white\", \"showbackground\": true, \"ticks\": \"\", \"zerolinecolor\": \"white\"}}, \"shapedefaults\": {\"line\": {\"color\": \"#2a3f5f\"}}, \"ternary\": {\"aaxis\": {\"gridcolor\": \"white\", \"linecolor\": \"white\", \"ticks\": \"\"}, \"baxis\": {\"gridcolor\": \"white\", \"linecolor\": \"white\", \"ticks\": \"\"}, \"bgcolor\": \"#E5ECF6\", \"caxis\": {\"gridcolor\": \"white\", \"linecolor\": \"white\", \"ticks\": \"\"}}, \"title\": {\"x\": 0.05}, \"xaxis\": {\"automargin\": true, \"gridcolor\": \"white\", \"linecolor\": \"white\", \"ticks\": \"\", \"title\": {\"standoff\": 15}, \"zerolinecolor\": \"white\", \"zerolinewidth\": 2}, \"yaxis\": {\"automargin\": true, \"gridcolor\": \"white\", \"linecolor\": \"white\", \"ticks\": \"\", \"title\": {\"standoff\": 15}, \"zerolinecolor\": \"white\", \"zerolinewidth\": 2}}}},\n",
              "                        {\"responsive\": true}\n",
              "                    ).then(function(){\n",
              "                            \n",
              "var gd = document.getElementById('94333871-751a-4bff-b403-c9f7e60d5acd');\n",
              "var x = new MutationObserver(function (mutations, observer) {{\n",
              "        var display = window.getComputedStyle(gd).display;\n",
              "        if (!display || display === 'none') {{\n",
              "            console.log([gd, 'removed!']);\n",
              "            Plotly.purge(gd);\n",
              "            observer.disconnect();\n",
              "        }}\n",
              "}});\n",
              "\n",
              "// Listen for the removal of the full notebook cells\n",
              "var notebookContainer = gd.closest('#notebook-container');\n",
              "if (notebookContainer) {{\n",
              "    x.observe(notebookContainer, {childList: true});\n",
              "}}\n",
              "\n",
              "// Listen for the clearing of the current output cell\n",
              "var outputEl = gd.closest('.output');\n",
              "if (outputEl) {{\n",
              "    x.observe(outputEl, {childList: true});\n",
              "}}\n",
              "\n",
              "                        })\n",
              "                };\n",
              "                \n",
              "            </script>\n",
              "        </div>\n",
              "</body>\n",
              "</html>"
            ]
          },
          "metadata": {
            "tags": []
          }
        }
      ]
    },
    {
      "cell_type": "code",
      "metadata": {
        "id": "a4vSlt_jPVu_"
      },
      "source": [
        "# Calculate energy of given configuration: \n",
        "def total_energy(rx,ry,rz,N,L,rc2,tail_cor,enr_cor,shift,e_cut):\n",
        "  enr = 0.0\n",
        "  lh = L/2.0\n",
        "  vir = 0.0\n",
        "  \n",
        "  for i in range(N-1):\n",
        "    for j in range(i+1,N):\n",
        "      dx = (rx[i]-rx[j])\n",
        "      dy = (ry[i]-ry[j])\n",
        "      dz = (rz[i]-rz[j])\n",
        "# Minimun Image convention \n",
        "      if (dx>lh):\n",
        "        dx-=L\n",
        "      elif (dx<-lh):\n",
        "        dx+=L\n",
        "      if (dy > lh):\n",
        "        dy-=L\n",
        "      elif (dy<-lh):\n",
        "        dy+=L\n",
        "      if (dz>lh):\n",
        "        dz-=L\n",
        "      elif (dz<-lh):\n",
        "        dz+=L\n",
        "\n",
        "      r2 = dx*dx+dy*dy+dz*dz\n",
        "      rc = L/2.0\n",
        "      \n",
        "      if (r2<rc2):        # What about equilibrium distance?\n",
        "        ir6 = 1.0/(r2*r2*r2)\n",
        "        enr += 4*((ir6*ir6)-ir6) - 4*((pow(rc,-12))-pow(rc,-6))    #e_cut if shift else 0.0\n",
        "        vir += 48*((ir6*ir6)-0.5*ir6)\n",
        "\n",
        "  return enr + N*enr_cor if tail_cor else 0.0, vir"
      ],
      "execution_count": null,
      "outputs": []
    },
    {
      "cell_type": "markdown",
      "metadata": {
        "id": "tVUTjBrgi98S"
      },
      "source": [
        "###(A) At T = 2.0 , $\\rho$ = 0.3 : Plot  of Pressure Vs Montecarlo steps & energy Vs Monte Carlo steps"
      ]
    },
    {
      "cell_type": "code",
      "metadata": {
        "id": "adaRmD6BklTD"
      },
      "source": [
        "## main program\n",
        "import math\n",
        "import random\n",
        "\n",
        "rho,T,N = 0.3, 2.0,100\n",
        "nCycles,nEq,shift,short_out,tailcorr = 10,1000,1,0,1\n",
        "\n",
        "# compute side length\n",
        "L = pow(N/rho,0.33333)\n",
        "rc = L/2.0\n",
        "\n",
        "# compute tail corrections:\n",
        "rr3 = pow(rc,-3)\n",
        "e_cor = 8*(math.pi)*rho*(pow(rr3,3)/9.0 - rr3/3.0)\n",
        "p_cor = (16/3.0)*(math.pi)*rho*rho*((2/3)*pow(rr3,3) - rr3)\n",
        "e_cut = 4.0*(pow(rr3,4) - pow(rr3,2))\n",
        "V = pow(L,3)\n",
        "# squared cutoff \n",
        "rc2 = rc*rc\n",
        "rx = list()\n",
        "ry = list()\n",
        "rz = list()\n",
        "\n",
        "for i in range(N):\n",
        "  rx.append(0)\n",
        "  ry.append(0)\n",
        "  rz.append(0)\n",
        "\n",
        "initialize(rx,ry,rz,N,L)\n",
        "\n",
        "E_old,vir = total_energy(rx,ry,rz,N,L,rc2,tailcorr,e_cor,shift,e_cut)"
      ],
      "execution_count": null,
      "outputs": []
    },
    {
      "cell_type": "code",
      "metadata": {
        "id": "2NcmssaxPuoR"
      },
      "source": [
        "from random import random as ran\n",
        "import random \n",
        "import math\n",
        "\n",
        "dr = 0.1\n",
        "energy_mc = list()\n",
        "press_mc = list()\n",
        "Eq_steps = list()\n",
        "accuracy = list() \n",
        "e_evol = list()\n",
        "v_evol = list()\n",
        "\n",
        "for i in range(5,60):\n",
        "  Eq_steps.append(i*100)\n",
        "  \n",
        "for j in range(len(Eq_steps)):\n",
        "  nCycles = 10\n",
        "  nCycles += Eq_steps[j]\n",
        "  nAcc = 0.0\n",
        "  esum = 0.0\n",
        "  nSamp = 0.0\n",
        "  vir_sum = 0.0\n",
        "  for c in range(nCycles):\n",
        "    i = random.randint(0,99)\n",
        "    #random.seed(c)\n",
        "    dx = dr*(0.5-random.random())\n",
        "    dy = dr*(0.5-random.random())\n",
        "    dz = dr*(0.5-random.random())\n",
        "\n",
        "    # Saving current positions :\n",
        "    rxold = rx[i]\n",
        "    ryold = ry[i]\n",
        "    rzold = rz[i]\n",
        "\n",
        "    # Displace a particle\n",
        "    rx[i]+=dx\n",
        "    ry[i]+=dy\n",
        "    rz[i]+=dz\n",
        "\n",
        "    # Apply periodic boundary conditions : \n",
        "    if (rx[i]>L): \n",
        "      rx[i]-=L\n",
        "    if (rx[i]<0):\n",
        "      rx[i]+=L\n",
        "    if (ry[i]>L):\n",
        "      ry[i]-=L\n",
        "    if (ry[i]<0):\n",
        "      ry[i]+=L\n",
        "    if (rz[i]>L):\n",
        "      rz[i]-=L\n",
        "    if (rz[i]<0):\n",
        "      rz[i]+=L\n",
        "\n",
        "    rc2 = (L*L)/4.0\n",
        "    E_new,vir_new = total_energy(rx,ry,rz,N,L,rc2,tailcorr,e_cor,shift,e_cut)\n",
        "    \n",
        "    # Conditionally accept\n",
        "    if (random.random() < math.exp(-T*(E_new - E_old))):\n",
        "      E_old= E_new\n",
        "      vir_old = vir_new\n",
        "      nAcc+=1 \n",
        "    # Or Reject the move \n",
        "    else :\n",
        "      rx[i] = rxold\n",
        "      ry[i] = ryold\n",
        "      rz[i] = rzold\n",
        "  # start calculating energy after equilibration steps.\n",
        "    if (c == Eq_steps[j]):\n",
        "      energy_mc.append(E_old)\n",
        "      P = rho/T + vir_old/(3*V) \n",
        "      press_mc.append(P)\n",
        "    if (c > nEq): \n",
        "      e_evol.append(E_old)\n",
        "      v_evol.append(rho*T + vir_old/(3*V))\n",
        "      esum +=E_old\n",
        "      vir_sum += vir_old\n",
        "      nSamp+=1\n",
        "  accuracy.append(nAcc/nCycles)"
      ],
      "execution_count": null,
      "outputs": []
    },
    {
      "cell_type": "code",
      "metadata": {
        "colab": {
          "base_uri": "https://localhost:8080/",
          "height": 592
        },
        "id": "ckGhgU63kVMx",
        "outputId": "9ba3fe43-729d-41a3-b097-b754a53ad5e2"
      },
      "source": [
        "import matplotlib.pyplot as plt\n",
        "\n",
        "y = press_mc\n",
        "x = Eq_steps\n",
        "plt.scatter(x,y)\n",
        "plt.ylabel('Pressure')\n",
        "plt.xlabel('Equilibriationa step')\n",
        "plt.show()\n",
        "\n",
        "print('\\n\\n')\n",
        "import matplotlib.pyplot as plt\n",
        "y = energy_mc\n",
        "x = Eq_steps\n",
        "plt.scatter(x,y)\n",
        "plt.ylabel('Energy')\n",
        "plt.xlabel('Equilibriation')\n",
        "plt.show()\n"
      ],
      "execution_count": null,
      "outputs": [
        {
          "output_type": "display_data",
          "data": {
            "image/png": "[encoded data removed]",
            "text/plain": [
              "<Figure size 432x288 with 1 Axes>"
            ]
          },
          "metadata": {
            "tags": [],
            "needs_background": "light"
          }
        },
        {
          "output_type": "stream",
          "text": [
            "\n",
            "\n",
            "\n"
          ],
          "name": "stdout"
        },
        {
          "output_type": "display_data",
          "data": {
            "image/png": "[encoded data removed]",
            "text/plain": [
              "<Figure size 432x288 with 1 Axes>"
            ]
          },
          "metadata": {
            "tags": [],
            "needs_background": "light"
          }
        }
      ]
    },
    {
      "cell_type": "markdown",
      "metadata": {
        "id": "O8-rT49dxi9-"
      },
      "source": [
        "###(B) Cumulative average and pressure:"
      ]
    },
    {
      "cell_type": "code",
      "metadata": {
        "colab": {
          "base_uri": "https://localhost:8080/"
        },
        "id": "ARpCtQjzw8E8",
        "outputId": "79beac92-f333-4990-8f0c-449cf9cd5c66"
      },
      "source": [
        "print(\"Average of energy : \", esum/nSamp)\n",
        "print(\"Average of pressure: \",rho*T + vir_sum/(3*nSamp*V))"
      ],
      "execution_count": null,
      "outputs": [
        {
          "output_type": "stream",
          "text": [
            "Average of energy :  -394.39925922704435\n",
            "Average of pressure:  0.27829722719573585\n"
          ],
          "name": "stdout"
        }
      ]
    },
    {
      "cell_type": "code",
      "metadata": {
        "id": "u1WWCYfDymuu"
      },
      "source": [
        "import matplotlib.pyplot as plt\n",
        "x = list()\n",
        "for i in range(nSamp):\n",
        "  x.append(i)\n",
        "\n",
        "y = e_evol\n",
        "plt.scatter(x,y)\n",
        "plt.ylabel('energy')\n",
        "plt.xlabel('No of production run')\n",
        "plt.show()\n",
        "\n",
        "print('\\n\\n')\n",
        "import matplotlib.pyplot as plt\n",
        "y = v_evol\n",
        "plt.scatter(x,y)\n",
        "plt.ylabel('Pressure')\n",
        "plt.xlabel('No of production run')\n",
        "plt.show()"
      ],
      "execution_count": null,
      "outputs": []
    },
    {
      "cell_type": "markdown",
      "metadata": {
        "id": "-1PV3L2TYG4v"
      },
      "source": [
        "##(D) Acceptance ratio of equilibrium performed:"
      ]
    },
    {
      "cell_type": "code",
      "metadata": {
        "colab": {
          "base_uri": "https://localhost:8080/",
          "height": 330
        },
        "id": "DeGTuabLZGow",
        "outputId": "e3656ba1-880c-4188-8413-b830bc305151"
      },
      "source": [
        "print('\\n\\n')\n",
        "import matplotlib.pyplot as plt\n",
        "y = accuracy\n",
        "x = Eq_steps\n",
        "plt.scatter(x,y)\n",
        "plt.ylabel('Acceptance ratio')\n",
        "plt.xlabel('Equilibriation')\n",
        "plt.show()"
      ],
      "execution_count": null,
      "outputs": [
        {
          "output_type": "stream",
          "text": [
            "\n",
            "\n",
            "\n"
          ],
          "name": "stdout"
        },
        {
          "output_type": "display_data",
          "data": {
            "image/png": "[encoded data removed]",
            "text/plain": [
              "<Figure size 432x288 with 1 Axes>"
            ]
          },
          "metadata": {
            "tags": [],
            "needs_background": "light"
          }
        }
      ]
    },
    {
      "cell_type": "markdown",
      "metadata": {
        "id": "U_MwmTP1jWeu"
      },
      "source": [
        "###From this plot of acceptance ratio Vs Equilibiration MC steps, in order to reach in range of 30 to 50% accetance ratio around 10,000 MC steps need to be taken for N = 100 particles"
      ]
    },
    {
      "cell_type": "markdown",
      "metadata": {
        "id": "hqDv6CPEZjRz"
      },
      "source": [
        "##(E) Plotting equation of state Pressure Vs $\\rho$"
      ]
    },
    {
      "cell_type": "code",
      "metadata": {
        "id": "BokcrUmkZ4UA"
      },
      "source": [
        "nCycles = 10\n",
        "nCycles+=3500\n",
        "#random.seed(10)\n",
        "dr = 0.1\n",
        "T = 2.0\n",
        "Rho = [0.1,0.2,0.3,0.4,0.5,0.6,0.7,0.8,0.9]\n",
        "l = list()\n",
        "Pre = list()\n",
        "N = 100\n",
        "\n",
        "for i in range(len(Rho)):\n",
        "  L = pow(N/Rho[i],1/3)\n",
        "  l.append(L)\n",
        "\n",
        "for j in range(len(Rho)):\n",
        "  nAcc = 0.0\n",
        "  esum = 0.0\n",
        "  nSamp = 0.0\n",
        "  vir_sum = 0.0 \n",
        "  P = 0\n",
        "  initialize(rx,ry,rz,N,l[j])\n",
        "  for c in range(nCycles):\n",
        "    i = random.randint(0,99)\n",
        "    random.seed(c)\n",
        "    dx = dr*(0.5-random.random())\n",
        "    dy = dr*(0.5-random.random())\n",
        "    dz = dr*(0.5-random.random())\n",
        "\n",
        "    # Saving current positions :\n",
        "    rxold = rx[i]\n",
        "    ryold = ry[i]\n",
        "    rzold = rz[i]\n",
        "\n",
        "    # Displace a particle\n",
        "    rx[i]+=dx\n",
        "    ry[i]+=dy\n",
        "    rz[i]+=dz\n",
        "\n",
        "    # Apply periodic boundary conditions : \n",
        "    if (rx[i]>l[j]): \n",
        "      rx[i]-=l[j]\n",
        "    if (rx[i]<0):\n",
        "      rx[i]+=l[j]\n",
        "    if (ry[i]>l[j]):\n",
        "      ry[i]-=l[j]\n",
        "    if (ry[i]<0):\n",
        "      ry[i]+=l[j]\n",
        "    if (rz[i]>l[j]):\n",
        "      rz[i]-=l[j]\n",
        "    if (rz[i]<0):\n",
        "      rz[i]+=l[j]\n",
        "    \n",
        "    rc = l[j]/2\n",
        "    rc2 = (l[j]*l[j])/4.0\n",
        "    rr3 = pow(rc,-3)\n",
        "    e_cor = 8*(math.pi)*Rho[j]*(pow(rr3,3)/9.0 - rr3/3.0)\n",
        "    p_cor = (16/3.0)*(math.pi)*Rho[j]*Rho[j]*((2/3)*pow(rr3,3) - rr3)\n",
        "    e_cut = 4.0*(pow(rr3,4) - pow(rr3,2))\n",
        "\n",
        "    E_new,vir_new = total_energy(rx,ry,rz,N,l[j],rc2,tailcorr,e_cor,shift,e_cut)\n",
        "    \n",
        "    # Conditionally accept\n",
        "    if (random.random() < math.exp(-T*(E_new - E_old))):\n",
        "      E_old= E_new\n",
        "      vir_old = vir_new\n",
        "      nAcc+=1 \n",
        "  # Or Reject the move \n",
        "    else :\n",
        "      rx[i] = rxold\n",
        "      ry[i] = ryold\n",
        "      rz[i] = rzold\n",
        " \n",
        "    if (c > nEq): \n",
        "      esum +=E_old\n",
        "      vir_sum += vir_old\n",
        "      nSamp+=1\n",
        "\n",
        "  P = Rho[j]*T + (vir_sum/(pow(l[j],3)*nSamp)) + p_cor\n",
        "  Pre.append(P)"
      ],
      "execution_count": null,
      "outputs": []
    },
    {
      "cell_type": "code",
      "metadata": {
        "colab": {
          "base_uri": "https://localhost:8080/",
          "height": 300
        },
        "id": "MIjCseOjbp__",
        "outputId": "a35fcce7-787b-4cd9-cfb7-d5260e346f65"
      },
      "source": [
        "import matplotlib.pyplot as plt\n",
        "plt.style.use('seaborn-whitegrid')\n",
        "plt.plot(Rho, Pre, 'ro--')\n",
        "plt.xlabel(\"density\",fontsize=20)\n",
        "plt.ylabel(\"Pressure \",fontsize = 20)\n",
        "plt.title(\"P Vs density\")\n",
        "plt.axis('tight')\n",
        "plt.show()"
      ],
      "execution_count": null,
      "outputs": [
        {
          "output_type": "display_data",
          "data": {
            "image/png": "[encoded data removed]",
            "text/plain": [
              "<Figure size 432x288 with 1 Axes>"
            ]
          },
          "metadata": {
            "tags": []
          }
        }
      ]
    },
    {
      "cell_type": "code",
      "metadata": {
        "colab": {
          "base_uri": "https://localhost:8080/"
        },
        "id": "0hvuAd97lsCx",
        "outputId": "98c1e8ce-771c-456d-cdf9-1ac95389d5c7"
      },
      "source": [
        "Pre"
      ],
      "execution_count": null,
      "outputs": [
        {
          "output_type": "execute_result",
          "data": {
            "text/plain": [
              "[-0.2115954053577296,\n",
              " -0.4312315721801809,\n",
              " -0.6669423990182048,\n",
              " -0.9267480585949086,\n",
              " -1.2186481348917857,\n",
              " 0.6367070347656429,\n",
              " 10.263738834124908,\n",
              " 8.819414407998625,\n",
              " 9.718026821774105]"
            ]
          },
          "metadata": {
            "tags": []
          },
          "execution_count": 80
        }
      ]
    },
    {
      "cell_type": "markdown",
      "metadata": {
        "id": "yqwJzGm0cTUc"
      },
      "source": [
        "##(F)  At $\\rho$ = 0.6 and 0.8 computing pressure with N = 200 particles"
      ]
    },
    {
      "cell_type": "code",
      "metadata": {
        "id": "luF7b8vhev1e"
      },
      "source": [
        "import math\n",
        "import random\n",
        "\n",
        "rho,T,N = 0.6, 2.0,200\n",
        "nCycles,nEq,shift,short_out,tailcorr = 10,1000,1,0,1\n",
        "\n",
        "# compute side length\n",
        "L = pow(N/rho,0.33333)\n",
        "rc = L/2.0\n",
        "\n",
        "# compute tail corrections:\n",
        "rr3 = pow(rc,-3)\n",
        "e_cor = 8*(math.pi)*rho*(pow(rr3,3)/9.0 - rr3/3.0)\n",
        "p_cor = (16/3.0)*(math.pi)*rho*rho*((2/3)*pow(rr3,3) - rr3)\n",
        "e_cut = 4.0*(pow(rr3,4) - pow(rr3,2))\n",
        "V = pow(L,3)\n",
        "# squared cutoff \n",
        "rc2 = rc*rc\n",
        "rx = list()\n",
        "ry = list()\n",
        "rz = list()\n",
        "\n",
        "for i in range(N):\n",
        "  rx.append(0)\n",
        "  ry.append(0)\n",
        "  rz.append(0)\n",
        "\n",
        "initialize(rx,ry,rz,N,L)\n",
        "\n",
        "E_old,vir = total_energy(rx,ry,rz,N,L,rc2,tailcorr,e_cor,shift,e_cut)"
      ],
      "execution_count": null,
      "outputs": []
    },
    {
      "cell_type": "code",
      "metadata": {
        "id": "iT-KKMHbcS5X"
      },
      "source": [
        "\n",
        "Eq_steps = 13500\n",
        "nCycles = 10\n",
        "nCycles += Eq_steps\n",
        "nAcc = 0.0\n",
        "esum = 0.0\n",
        "nSamp = 0.0\n",
        "vir_sum = 0.0\n",
        "for c in range(nCycles):\n",
        "  i = random.randint(0,99)\n",
        "  #random.seed(c)\n",
        "  dx = dr*(0.5-random.random())\n",
        "  dy = dr*(0.5-random.random())\n",
        "  dz = dr*(0.5-random.random())\n",
        "\n",
        "  # Saving current positions :\n",
        "  rxold = rx[i]\n",
        "  ryold = ry[i]\n",
        "  rzold = rz[i]\n",
        "\n",
        "  # Displace a particle\n",
        "  rx[i]+=dx\n",
        "  ry[i]+=dy\n",
        "  rz[i]+=dz\n",
        "\n",
        "  # Apply periodic boundary conditions : \n",
        "  if (rx[i]>L): \n",
        "    rx[i]-=L\n",
        "  if (rx[i]<0):\n",
        "    rx[i]+=L\n",
        "  if (ry[i]>L):\n",
        "    ry[i]-=L\n",
        "  if (ry[i]<0):\n",
        "    ry[i]+=L\n",
        "  if (rz[i]>L):\n",
        "    rz[i]-=L\n",
        "  if (rz[i]<0):\n",
        "    rz[i]+=L\n",
        "\n",
        "  rc2 = (L*L)/4.0\n",
        "  E_new,vir_new = total_energy(rx,ry,rz,N,L,rc2,tailcorr,e_cor,shift,e_cut)\n",
        "  \n",
        "  # Conditionally accept\n",
        "  if (random.random() < math.exp(-T*(E_new - E_old))):\n",
        "    E_old= E_new\n",
        "    vir_old = vir_new\n",
        "    nAcc+=1 \n",
        "  # Or Reject the move \n",
        "  else :\n",
        "    rx[i] = rxold\n",
        "    ry[i] = ryold\n",
        "    rz[i] = rzold\n",
        "# start calculating energy after equilibration steps.\n",
        "  if (c == Eq_steps):\n",
        "    energy_mc.append(E_old)\n",
        "    P = rho/T + vir_old/(3*V) \n",
        "    press_mc.append(P)\n",
        "  #if (c > nEq): \n",
        "    #e_evol.append(E_old)\n",
        "    #v_evol.append(rho*T + vir_old/(3*V))\n",
        "    #esum +=E_old\n",
        "    #vir_sum += vir_old\n",
        "    #nSamp+=1"
      ],
      "execution_count": null,
      "outputs": []
    },
    {
      "cell_type": "code",
      "metadata": {
        "colab": {
          "base_uri": "https://localhost:8080/"
        },
        "id": "PQezh8KRgMpC",
        "outputId": "c0bf196f-4158-43d7-bc61-f3ec9b900e18"
      },
      "source": [
        "print('Pressure for N = 200 :', P)"
      ],
      "execution_count": null,
      "outputs": [
        {
          "output_type": "stream",
          "text": [
            "Acceptance ratio is for N = 200 : 1.1454589801934214\n"
          ],
          "name": "stdout"
        }
      ]
    },
    {
      "cell_type": "markdown",
      "metadata": {
        "id": "_uBd4necgc-z"
      },
      "source": [
        "##P = 0.636 unit for N = 100  at $\\rho = 0.6$\n",
        "##P = 1.140 unit  for N = 200 at $\\rho = 0.6$"
      ]
    },
    {
      "cell_type": "code",
      "metadata": {
        "id": "7TGqwjQUgcoS"
      },
      "source": [
        "import math\n",
        "import random\n",
        "\n",
        "rho,T,N = 0.8, 2.0,200\n",
        "nCycles,nEq,shift,short_out,tailcorr = 10,1000,1,0,1\n",
        "\n",
        "# compute side length\n",
        "L = pow(N/rho,0.33333)\n",
        "rc = L/2.0\n",
        "\n",
        "# compute tail corrections:\n",
        "rr3 = pow(rc,-3)\n",
        "e_cor = 8*(math.pi)*rho*(pow(rr3,3)/9.0 - rr3/3.0)\n",
        "p_cor = (16/3.0)*(math.pi)*rho*rho*((2/3)*pow(rr3,3) - rr3)\n",
        "e_cut = 4.0*(pow(rr3,4) - pow(rr3,2))\n",
        "V = pow(L,3)\n",
        "# squared cutoff \n",
        "rc2 = rc*rc\n",
        "rx = list()\n",
        "ry = list()\n",
        "rz = list()\n",
        "\n",
        "for i in range(N):\n",
        "  rx.append(0)\n",
        "  ry.append(0)\n",
        "  rz.append(0)\n",
        "\n",
        "initialize(rx,ry,rz,N,L)\n",
        "\n",
        "E_old,vir = total_energy(rx,ry,rz,N,L,rc2,tailcorr,e_cor,shift,e_cut)"
      ],
      "execution_count": null,
      "outputs": []
    },
    {
      "cell_type": "code",
      "metadata": {
        "id": "7Qf2tQ9kg97b"
      },
      "source": [
        "Eq_steps = 20000\n",
        "nCycles = 10\n",
        "nCycles += Eq_steps\n",
        "nAcc = 0.0\n",
        "esum = 0.0\n",
        "nSamp = 0.0\n",
        "vir_sum = 0.0\n",
        "for c in range(nCycles):\n",
        "  i = random.randint(0,99)\n",
        "  #random.seed(c)\n",
        "  dx = dr*(0.5-random.random())\n",
        "  dy = dr*(0.5-random.random())\n",
        "  dz = dr*(0.5-random.random())\n",
        "\n",
        "  # Saving current positions :\n",
        "  rxold = rx[i]\n",
        "  ryold = ry[i]\n",
        "  rzold = rz[i]\n",
        "\n",
        "  # Displace a particle\n",
        "  rx[i]+=dx\n",
        "  ry[i]+=dy\n",
        "  rz[i]+=dz\n",
        "\n",
        "  # Apply periodic boundary conditions : \n",
        "  if (rx[i]>L): \n",
        "    rx[i]-=L\n",
        "  if (rx[i]<0):\n",
        "    rx[i]+=L\n",
        "  if (ry[i]>L):\n",
        "    ry[i]-=L\n",
        "  if (ry[i]<0):\n",
        "    ry[i]+=L\n",
        "  if (rz[i]>L):\n",
        "    rz[i]-=L\n",
        "  if (rz[i]<0):\n",
        "    rz[i]+=L\n",
        "\n",
        "  rc2 = (L*L)/4.0\n",
        "  E_new,vir_new = total_energy(rx,ry,rz,N,L,rc2,tailcorr,e_cor,shift,e_cut)\n",
        "  \n",
        "  # Conditionally accept\n",
        "  if (random.random() < math.exp(-T*(E_new - E_old))):\n",
        "    E_old= E_new\n",
        "    vir_old = vir_new\n",
        "    nAcc+=1 \n",
        "  # Or Reject the move \n",
        "  else :\n",
        "    rx[i] = rxold\n",
        "    ry[i] = ryold\n",
        "    rz[i] = rzold\n",
        "# start calculating energy after equilibration steps.\n",
        "  if (c == Eq_steps):\n",
        "    energy_mc.append(E_old)\n",
        "    P = rho/T + vir_old/(3*V) \n",
        "    press_mc.append(P)\n",
        "  #if (c > nEq): \n",
        "    #e_evol.append(E_old)\n",
        "    #v_evol.append(rho*T + vir_old/(3*V))\n",
        "    #esum +=E_old\n",
        "    #vir_sum += vir_old\n",
        "    #nSamp+=1"
      ],
      "execution_count": null,
      "outputs": []
    },
    {
      "cell_type": "markdown",
      "metadata": {
        "id": "w9zvTRWOlpzT"
      },
      "source": [
        "##P = 8.81 unit for N = 100  at $\\rho = 0.8$\n",
        "##P = 1.37 unit for N = 200 at $\\rho = 0.8$"
      ]
    },
    {
      "cell_type": "code",
      "metadata": {
        "colab": {
          "base_uri": "https://localhost:8080/"
        },
        "id": "dtj-ZXWse5vq",
        "outputId": "2e7c5850-472d-4326-8cdb-6f9fe708c7cb"
      },
      "source": [
        "P"
      ],
      "execution_count": null,
      "outputs": [
        {
          "output_type": "execute_result",
          "data": {
            "text/plain": [
              "1.3729108068423705"
            ]
          },
          "metadata": {
            "tags": []
          },
          "execution_count": 79
        }
      ]
    },
    {
      "cell_type": "markdown",
      "metadata": {
        "id": "_KHpJ3mNf4eE"
      },
      "source": [
        "### Understanding from the Project:\n",
        "### In this project, We first start with perfect crystal lattice configuration and then by using MC moves of configurations we attain lowest energy configuration. This simulation helps in understanding the phase change behaviour of fluids at different temperatures. As we know from basic chemistry knowledge that gas can be liquified only below its critical temperature, we can explain that phenemena theoretically using this model. \n",
        "\n",
        "### The Results that I have obtained is not similar that from Frenkel & Smith book that is because to high acccetance ratio I have used in simulation box. From the acceptance ration vs Mc moves plots, we can say that more that 10000 MC moves are needed to get 30 to 50% acceptance ratio while for particle N = 200, it is even higher. \n",
        "\n",
        "### Out of system at  N=100 and N=200, In initial state orderness is same in both system (because of perfect cubic lattice) but in ground state configuration N =200 system is more disordered than N = 100\n"
      ]
    },
    {
      "cell_type": "code",
      "metadata": {
        "colab": {
          "base_uri": "https://localhost:8080/",
          "height": 559
        },
        "id": "80ZQQet4nQxr",
        "outputId": "dda6241b-23c0-4fdf-de5b-130902f19200"
      },
      "source": [
        "print('final positions of particles (disordered State)')\n",
        "import plotly.express as px\n",
        "fig = px.scatter_3d(x=rx, y=ry, z=rz)\n",
        "fig.show()"
      ],
      "execution_count": null,
      "outputs": [
        {
          "output_type": "stream",
          "text": [
            "final positions of particles (disordered State)\n"
          ],
          "name": "stdout"
        },
        {
          "output_type": "display_data",
          "data": {
            "text/html": [
              "<html>\n",
              "<head><meta charset=\"utf-8\" /></head>\n",
              "<body>\n",
              "    <div>\n",
              "            <script src=\"https://cdnjs.cloudflare.com/ajax/libs/mathjax/2.7.5/MathJax.js?config=TeX-AMS-MML_SVG\"></script><script type=\"text/javascript\">if (window.MathJax) {MathJax.Hub.Config({SVG: {font: \"STIX-Web\"}});}</script>\n",
              "                <script type=\"text/javascript\">window.PlotlyConfig = {MathJaxConfig: 'local'};</script>\n",
              "        <script src=\"https://cdn.plot.ly/plotly-latest.min.js\"></script>    \n",
              "            <div id=\"e846b525-c2fb-467a-9238-cd8723a50a1e\" class=\"plotly-graph-div\" style=\"height:525px; width:100%;\"></div>\n",
              "            <script type=\"text/javascript\">\n",
              "                \n",
              "                    window.PLOTLYENV=window.PLOTLYENV || {};\n",
              "                    \n",
              "                if (document.getElementById(\"e846b525-c2fb-467a-9238-cd8723a50a1e\")) {\n",
              "                    Plotly.newPlot(\n",
              "                        'e846b525-c2fb-467a-9238-cd8723a50a1e',\n",
              "                        [{\"hoverlabel\": {\"namelength\": 0}, \"hovertemplate\": \"x=%{x}<br>y=%{y}<br>z=%{z}\", \"legendgroup\": \"\", \"marker\": {\"color\": \"#636efa\", \"symbol\": \"circle\"}, \"mode\": \"markers\", \"name\": \"\", \"scene\": \"scene\", \"showlegend\": false, \"type\": \"scatter3d\", \"x\": [0.060095738460018644, 1.1313298389576034, 2.125004406641473, 3.1111361769131873, 4.2179455914177755, 5.264474702938897, 0.7110532252920118, 1.6937835535394072, 2.830421044703238, 3.8158580224731957, 4.7879821560237925, 5.954963160217156, 0.6895667802456956, 1.6547856114345303, 2.8524038603499307, 3.8893226503334786, 5.026240827299374, 5.956459656094842, 0.2699217073853316, 1.2900171106458207, 2.4315198620062226, 3.486153684855051, 4.535198831990391, 5.560420845284386, 0.7986796380883049, 2.118091247363475, 3.1325184224409734, 4.06260072454293, 4.893709053317601, 6.005340549596584, 0.39235831097133334, 1.6227591643587025, 2.4975673198988892, 3.6605129808631767, 4.620883057219656, 5.610303044594544, 0.6166821930457032, 1.5660369638569915, 2.637891205945678, 3.798844954986419, 4.926469334372736, 5.960508645086403, 0.5841852069690613, 1.6523933979036642, 2.680767054908566, 3.706783151195638, 4.580703456517727, 5.943776766999006, 0.07417137707532298, 1.1281755519808347, 2.075734655197269, 3.244313854834214, 4.295441960615484, 5.332447203186298, 0.6849733901312507, 1.6344307881095093, 2.5468875518087057, 3.674112158698516, 4.886464375808549, 5.918826706163188, 0.10662246885250368, 1.2348377115916025, 2.3103577774085857, 3.2104457117448058, 4.173669282450608, 5.256358772380772, 0.7252354527894322, 1.6880304864877698, 2.555996486027119, 3.3846249967547015, 4.512375359847486, 5.818871448518336, 1.0467266942941147, 2.1437339947109257, 3.1428999951034453, 4.249068306680242, 5.355223962579088, 0.010756367578624193, 0.08034490995157363, 1.026656230650144, 2.097428982260717, 3.2067092140002926, 4.214019364999583, 5.227909181290758, 0.5740989554374297, 1.668344894142844, 2.647880202119238, 3.6013860820861203, 4.530692135432188, 5.806979319972308, 1.071549975443913, 2.193037415756841, 3.1498864256978414, 4.177040011101056, 5.214161889815149, 0.062108404496135326, 0.6133186118196953, 1.617856764424415, 2.6505116140175957, 3.633570378571347, 4.724616980345534, 5.774531864866763, 0.5249574422606148, 1.5748723267818445, 2.624787211303074, 3.6747020958243035, 4.724616980345534, 5.774531864866763, 0.5249574422606148, 1.5748723267818445, 2.624787211303074, 3.6747020958243035, 4.724616980345534, 5.774531864866763, 0.5249574422606148, 1.5748723267818445, 2.624787211303074, 3.6747020958243035, 4.724616980345534, 5.774531864866763, 0.5249574422606148, 1.5748723267818445, 2.624787211303074, 3.6747020958243035, 4.724616980345534, 5.774531864866763, 0.5249574422606148, 1.5748723267818445, 2.624787211303074, 3.6747020958243035, 4.724616980345534, 5.774531864866763, 0.5249574422606148, 1.5748723267818445, 2.624787211303074, 3.6747020958243035, 4.724616980345534, 5.774531864866763, 0.5249574422606148, 1.5748723267818445, 2.624787211303074, 3.6747020958243035, 4.724616980345534, 5.774531864866763, 0.5249574422606148, 1.5748723267818445, 2.624787211303074, 3.6747020958243035, 4.724616980345534, 5.774531864866763, 0.5249574422606148, 1.5748723267818445, 2.624787211303074, 3.6747020958243035, 4.724616980345534, 5.774531864866763, 0.5249574422606148, 1.5748723267818445, 2.624787211303074, 3.6747020958243035, 4.724616980345534, 5.774531864866763, 0.5249574422606148, 1.5748723267818445, 2.624787211303074, 3.6747020958243035, 4.724616980345534, 5.774531864866763, 0.5249574422606148, 1.5748723267818445, 2.624787211303074, 3.6747020958243035, 4.724616980345534, 5.774531864866763, 0.5249574422606148, 1.5748723267818445, 2.624787211303074, 3.6747020958243035, 4.724616980345534, 5.774531864866763, 0.5249574422606148, 1.5748723267818445, 2.624787211303074, 3.6747020958243035, 4.724616980345534, 5.774531864866763, 0.5249574422606148, 1.5748723267818445, 2.624787211303074, 3.6747020958243035, 4.724616980345534, 5.774531864866763, 0.5249574422606148, 1.5748723267818445, 2.624787211303074, 3.6747020958243035, 4.724616980345534, 5.774531864866763, 0.5249574422606148, 1.5748723267818445], \"y\": [0.5960962029289923, 0.2834051552165237, 0.870433715104747, 0.6978816350656069, 0.87168788670093, 0.7520513255036736, 1.3774798637098926, 1.9598101803780892, 1.6204460262128029, 1.8346249860326518, 1.728127807394376, 1.6780985901599836, 2.474062552600944, 3.0079289704733188, 2.585959537478422, 2.8658064702975223, 2.7678535886276237, 3.1345477263579156, 3.995150985074234, 3.977524598258088, 3.675573211201914, 4.001582702938544, 3.860004018394144, 3.9409469214125066, 4.983547467455459, 4.859109349894429, 5.106862465205227, 5.059120231175392, 4.677036452855022, 5.009466270343279, 5.899236192450527, 5.636519656807241, 6.141051960100124, 6.0613540492496165, 6.144278957150519, 6.074853659684501, 0.7041780440906272, 0.2514001590357123, 0.14812119227676585, 0.36574689931013565, 0.11960787956278499, 0.5510078560655784, 1.85408807844921, 1.3022081006171513, 1.197104850490119, 1.6414079587998445, 1.272940648372699, 1.4865111248757341, 2.7118978010143704, 2.6779993326829405, 2.2159061859794624, 2.5824671400088812, 2.500519917274012, 2.384256494245941, 3.696472934810455, 3.6627788816709446, 3.3751638461997597, 3.5421073957452696, 3.506209716095583, 3.6883349805627397, 4.594920857740094, 4.770150727762073, 4.3906086210099495, 4.583801308737747, 4.3923567336889215, 4.541106067662311, 5.8393899605876936, 5.6881339878419865, 5.3779115022152135, 5.682349083429366, 5.42574195000353, 5.7742895083366275, 0.49376526036525975, 0.5960900279417447, 0.38119081332282767, 0.38598400929495474, 0.6957756018678164, 0.4243305814679762, 1.3994287112582686, 1.6413938869145828, 1.5832846455437712, 1.4571948800685475, 1.5149348759249903, 2.0097237931353775, 2.6794522266355894, 2.5454840682303184, 2.7693472474513126, 2.4798225306777097, 2.8634256762934074, 2.8812692055116544, 3.5952256564742964, 3.576450602746781, 3.8110465865939327, 3.780182910743238, 3.7130640132848094, 3.832686993282541, 4.683800056039319, 4.3980728883408, 4.657021971027523, 4.739043768257043, 4.724616980345534, 4.724616980345534, 5.774531864866763, 5.774531864866763, 5.774531864866763, 5.774531864866763, 5.774531864866763, 5.774531864866763, 0.5249574422606148, 0.5249574422606148, 0.5249574422606148, 0.5249574422606148, 0.5249574422606148, 0.5249574422606148, 1.5748723267818445, 1.5748723267818445, 1.5748723267818445, 1.5748723267818445, 1.5748723267818445, 1.5748723267818445, 2.624787211303074, 2.624787211303074, 2.624787211303074, 2.624787211303074, 2.624787211303074, 2.624787211303074, 3.6747020958243035, 3.6747020958243035, 3.6747020958243035, 3.6747020958243035, 3.6747020958243035, 3.6747020958243035, 4.724616980345534, 4.724616980345534, 4.724616980345534, 4.724616980345534, 4.724616980345534, 4.724616980345534, 5.774531864866763, 5.774531864866763, 5.774531864866763, 5.774531864866763, 5.774531864866763, 5.774531864866763, 0.5249574422606148, 0.5249574422606148, 0.5249574422606148, 0.5249574422606148, 0.5249574422606148, 0.5249574422606148, 1.5748723267818445, 1.5748723267818445, 1.5748723267818445, 1.5748723267818445, 1.5748723267818445, 1.5748723267818445, 2.624787211303074, 2.624787211303074, 2.624787211303074, 2.624787211303074, 2.624787211303074, 2.624787211303074, 3.6747020958243035, 3.6747020958243035, 3.6747020958243035, 3.6747020958243035, 3.6747020958243035, 3.6747020958243035, 4.724616980345534, 4.724616980345534, 4.724616980345534, 4.724616980345534, 4.724616980345534, 4.724616980345534, 5.774531864866763, 5.774531864866763, 5.774531864866763, 5.774531864866763, 5.774531864866763, 5.774531864866763, 0.5249574422606148, 0.5249574422606148, 0.5249574422606148, 0.5249574422606148, 0.5249574422606148, 0.5249574422606148, 1.5748723267818445, 1.5748723267818445, 1.5748723267818445, 1.5748723267818445, 1.5748723267818445, 1.5748723267818445, 2.624787211303074, 2.624787211303074, 2.624787211303074, 2.624787211303074, 2.624787211303074, 2.624787211303074, 3.6747020958243035, 3.6747020958243035], \"z\": [0.4769277306531579, 0.6794820239063879, 0.8575380001241799, 0.465811716142299, 0.5416849715581142, 0.5499891243354917, 0.7223390434376928, 0.5985255260706649, 0.9436449400137795, 0.4985627641533418, 0.8253127350617142, 0.5105086402131173, 0.5582100463252717, 0.4809925540398385, 0.45549080048126256, 0.501411176161926, 0.4745430798643395, 0.39199340626805934, 0.46406494406972754, 0.7075298775779505, 0.06604224449852432, 0.2054014412515486, 0.42201854351745793, 0.8809602676446133, 0.7067046047019282, 0.6651648488816759, 0.1446598531912814, 0.5013524790563528, 6.210714313047678, 0.35722525595711774, 0.2758022840971341, 6.296050490190331, 0.6901394786634143, 0.08607678475770739, 0.6435984327461668, 0.12261838367138642, 1.5653000817223761, 1.701987750963406, 1.695636758293793, 1.6721989510059534, 1.8203068358656196, 1.3457854115167591, 1.6941094310321558, 1.7281153861449996, 1.8602970974645445, 1.6274099523647294, 1.833042573931709, 1.8320741743145352, 1.515118598805874, 1.5756193770727667, 1.574034525679653, 1.3595294492978265, 1.4080515577574255, 1.663498160143284, 1.5154338653391501, 1.8247326903385033, 1.306838159739343, 1.3054906370475057, 1.6484803605546718, 1.827452163089743, 1.3869992235699558, 1.5947350844185926, 1.6770775799686224, 1.1686154255043484, 1.5898805727341792, 1.6071644626387735, 1.3707676850237038, 1.0970351814050856, 1.587381172099466, 1.1168731220393358, 1.6177611950228623, 1.5183573710647562, 2.689971081887492, 2.5538657354015566, 2.625280766596981, 2.7571868100464734, 2.732868341192102, 2.3096007957982403, 2.7447758811102996, 2.721511272445722, 2.698141547202488, 2.7515421509270044, 2.6926498670937398, 2.8158798563932677, 2.5396716338928624, 2.5168586516325715, 2.2405824858499446, 2.5380865888758355, 2.388494537631146, 2.5758738240290193, 2.6478654844938836, 2.7089017079101056, 2.2315535828556086, 2.7179750774153684, 2.725022622488998, 2.7517739860660946, 2.381343512905265, 2.570099244091053, 2.6626087095179463, 2.682537282793897, 2.624787211303074, 2.624787211303074, 2.624787211303074, 2.624787211303074, 2.624787211303074, 2.624787211303074, 2.624787211303074, 2.624787211303074, 3.6747020958243035, 3.6747020958243035, 3.6747020958243035, 3.6747020958243035, 3.6747020958243035, 3.6747020958243035, 3.6747020958243035, 3.6747020958243035, 3.6747020958243035, 3.6747020958243035, 3.6747020958243035, 3.6747020958243035, 3.6747020958243035, 3.6747020958243035, 3.6747020958243035, 3.6747020958243035, 3.6747020958243035, 3.6747020958243035, 3.6747020958243035, 3.6747020958243035, 3.6747020958243035, 3.6747020958243035, 3.6747020958243035, 3.6747020958243035, 3.6747020958243035, 3.6747020958243035, 3.6747020958243035, 3.6747020958243035, 3.6747020958243035, 3.6747020958243035, 3.6747020958243035, 3.6747020958243035, 3.6747020958243035, 3.6747020958243035, 3.6747020958243035, 3.6747020958243035, 4.724616980345534, 4.724616980345534, 4.724616980345534, 4.724616980345534, 4.724616980345534, 4.724616980345534, 4.724616980345534, 4.724616980345534, 4.724616980345534, 4.724616980345534, 4.724616980345534, 4.724616980345534, 4.724616980345534, 4.724616980345534, 4.724616980345534, 4.724616980345534, 4.724616980345534, 4.724616980345534, 4.724616980345534, 4.724616980345534, 4.724616980345534, 4.724616980345534, 4.724616980345534, 4.724616980345534, 4.724616980345534, 4.724616980345534, 4.724616980345534, 4.724616980345534, 4.724616980345534, 4.724616980345534, 4.724616980345534, 4.724616980345534, 4.724616980345534, 4.724616980345534, 4.724616980345534, 4.724616980345534, 5.774531864866763, 5.774531864866763, 5.774531864866763, 5.774531864866763, 5.774531864866763, 5.774531864866763, 5.774531864866763, 5.774531864866763, 5.774531864866763, 5.774531864866763, 5.774531864866763, 5.774531864866763, 5.774531864866763, 5.774531864866763, 5.774531864866763, 5.774531864866763, 5.774531864866763, 5.774531864866763, 5.774531864866763, 5.774531864866763]}],\n",
              "                        {\"legend\": {\"tracegroupgap\": 0}, \"margin\": {\"t\": 60}, \"scene\": {\"domain\": {\"x\": [0.0, 1.0], \"y\": [0.0, 1.0]}, \"xaxis\": {\"title\": {\"text\": \"x\"}}, \"yaxis\": {\"title\": {\"text\": \"y\"}}, \"zaxis\": {\"title\": {\"text\": \"z\"}}}, \"template\": {\"data\": {\"bar\": [{\"error_x\": {\"color\": \"#2a3f5f\"}, \"error_y\": {\"color\": \"#2a3f5f\"}, \"marker\": {\"line\": {\"color\": \"#E5ECF6\", \"width\": 0.5}}, \"type\": \"bar\"}], \"barpolar\": [{\"marker\": {\"line\": {\"color\": \"#E5ECF6\", \"width\": 0.5}}, \"type\": \"barpolar\"}], \"carpet\": [{\"aaxis\": {\"endlinecolor\": \"#2a3f5f\", \"gridcolor\": \"white\", \"linecolor\": \"white\", \"minorgridcolor\": \"white\", \"startlinecolor\": \"#2a3f5f\"}, \"baxis\": {\"endlinecolor\": \"#2a3f5f\", \"gridcolor\": \"white\", \"linecolor\": \"white\", \"minorgridcolor\": \"white\", \"startlinecolor\": \"#2a3f5f\"}, \"type\": \"carpet\"}], \"choropleth\": [{\"colorbar\": {\"outlinewidth\": 0, \"ticks\": \"\"}, \"type\": \"choropleth\"}], \"contour\": [{\"colorbar\": {\"outlinewidth\": 0, \"ticks\": \"\"}, \"colorscale\": [[0.0, \"#0d0887\"], [0.1111111111111111, \"#46039f\"], [0.2222222222222222, \"#7201a8\"], [0.3333333333333333, \"#9c179e\"], [0.4444444444444444, \"#bd3786\"], [0.5555555555555556, \"#d8576b\"], [0.6666666666666666, \"#ed7953\"], [0.7777777777777778, \"#fb9f3a\"], [0.8888888888888888, \"#fdca26\"], [1.0, \"#f0f921\"]], \"type\": \"contour\"}], \"contourcarpet\": [{\"colorbar\": {\"outlinewidth\": 0, \"ticks\": \"\"}, \"type\": \"contourcarpet\"}], \"heatmap\": [{\"colorbar\": {\"outlinewidth\": 0, \"ticks\": \"\"}, \"colorscale\": [[0.0, \"#0d0887\"], [0.1111111111111111, \"#46039f\"], [0.2222222222222222, \"#7201a8\"], [0.3333333333333333, \"#9c179e\"], [0.4444444444444444, \"#bd3786\"], [0.5555555555555556, \"#d8576b\"], [0.6666666666666666, \"#ed7953\"], [0.7777777777777778, \"#fb9f3a\"], [0.8888888888888888, \"#fdca26\"], [1.0, \"#f0f921\"]], \"type\": \"heatmap\"}], \"heatmapgl\": [{\"colorbar\": {\"outlinewidth\": 0, \"ticks\": \"\"}, \"colorscale\": [[0.0, \"#0d0887\"], [0.1111111111111111, \"#46039f\"], [0.2222222222222222, \"#7201a8\"], [0.3333333333333333, \"#9c179e\"], [0.4444444444444444, \"#bd3786\"], [0.5555555555555556, \"#d8576b\"], [0.6666666666666666, \"#ed7953\"], [0.7777777777777778, \"#fb9f3a\"], [0.8888888888888888, \"#fdca26\"], [1.0, \"#f0f921\"]], \"type\": \"heatmapgl\"}], \"histogram\": [{\"marker\": {\"colorbar\": {\"outlinewidth\": 0, \"ticks\": \"\"}}, \"type\": \"histogram\"}], \"histogram2d\": [{\"colorbar\": {\"outlinewidth\": 0, \"ticks\": \"\"}, \"colorscale\": [[0.0, \"#0d0887\"], [0.1111111111111111, \"#46039f\"], [0.2222222222222222, \"#7201a8\"], [0.3333333333333333, \"#9c179e\"], [0.4444444444444444, \"#bd3786\"], [0.5555555555555556, \"#d8576b\"], [0.6666666666666666, \"#ed7953\"], [0.7777777777777778, \"#fb9f3a\"], [0.8888888888888888, \"#fdca26\"], [1.0, \"#f0f921\"]], \"type\": \"histogram2d\"}], \"histogram2dcontour\": [{\"colorbar\": {\"outlinewidth\": 0, \"ticks\": \"\"}, \"colorscale\": [[0.0, \"#0d0887\"], [0.1111111111111111, \"#46039f\"], [0.2222222222222222, \"#7201a8\"], [0.3333333333333333, \"#9c179e\"], [0.4444444444444444, \"#bd3786\"], [0.5555555555555556, \"#d8576b\"], [0.6666666666666666, \"#ed7953\"], [0.7777777777777778, \"#fb9f3a\"], [0.8888888888888888, \"#fdca26\"], [1.0, \"#f0f921\"]], \"type\": \"histogram2dcontour\"}], \"mesh3d\": [{\"colorbar\": {\"outlinewidth\": 0, \"ticks\": \"\"}, \"type\": \"mesh3d\"}], \"parcoords\": [{\"line\": {\"colorbar\": {\"outlinewidth\": 0, \"ticks\": \"\"}}, \"type\": \"parcoords\"}], \"pie\": [{\"automargin\": true, \"type\": \"pie\"}], \"scatter\": [{\"marker\": {\"colorbar\": {\"outlinewidth\": 0, \"ticks\": \"\"}}, \"type\": \"scatter\"}], \"scatter3d\": [{\"line\": {\"colorbar\": {\"outlinewidth\": 0, \"ticks\": \"\"}}, \"marker\": {\"colorbar\": {\"outlinewidth\": 0, \"ticks\": \"\"}}, \"type\": \"scatter3d\"}], \"scattercarpet\": [{\"marker\": {\"colorbar\": {\"outlinewidth\": 0, \"ticks\": \"\"}}, \"type\": \"scattercarpet\"}], \"scattergeo\": [{\"marker\": {\"colorbar\": {\"outlinewidth\": 0, \"ticks\": \"\"}}, \"type\": \"scattergeo\"}], \"scattergl\": [{\"marker\": {\"colorbar\": {\"outlinewidth\": 0, \"ticks\": \"\"}}, \"type\": \"scattergl\"}], \"scattermapbox\": [{\"marker\": {\"colorbar\": {\"outlinewidth\": 0, \"ticks\": \"\"}}, \"type\": \"scattermapbox\"}], \"scatterpolar\": [{\"marker\": {\"colorbar\": {\"outlinewidth\": 0, \"ticks\": \"\"}}, \"type\": \"scatterpolar\"}], \"scatterpolargl\": [{\"marker\": {\"colorbar\": {\"outlinewidth\": 0, \"ticks\": \"\"}}, \"type\": \"scatterpolargl\"}], \"scatterternary\": [{\"marker\": {\"colorbar\": {\"outlinewidth\": 0, \"ticks\": \"\"}}, \"type\": \"scatterternary\"}], \"surface\": [{\"colorbar\": {\"outlinewidth\": 0, \"ticks\": \"\"}, \"colorscale\": [[0.0, \"#0d0887\"], [0.1111111111111111, \"#46039f\"], [0.2222222222222222, \"#7201a8\"], [0.3333333333333333, \"#9c179e\"], [0.4444444444444444, \"#bd3786\"], [0.5555555555555556, \"#d8576b\"], [0.6666666666666666, \"#ed7953\"], [0.7777777777777778, \"#fb9f3a\"], [0.8888888888888888, \"#fdca26\"], [1.0, \"#f0f921\"]], \"type\": \"surface\"}], \"table\": [{\"cells\": {\"fill\": {\"color\": \"#EBF0F8\"}, \"line\": {\"color\": \"white\"}}, \"header\": {\"fill\": {\"color\": \"#C8D4E3\"}, \"line\": {\"color\": \"white\"}}, \"type\": \"table\"}]}, \"layout\": {\"annotationdefaults\": {\"arrowcolor\": \"#2a3f5f\", \"arrowhead\": 0, \"arrowwidth\": 1}, \"coloraxis\": {\"colorbar\": {\"outlinewidth\": 0, \"ticks\": \"\"}}, \"colorscale\": {\"diverging\": [[0, \"#8e0152\"], [0.1, \"#c51b7d\"], [0.2, \"#de77ae\"], [0.3, \"#f1b6da\"], [0.4, \"#fde0ef\"], [0.5, \"#f7f7f7\"], [0.6, \"#e6f5d0\"], [0.7, \"#b8e186\"], [0.8, \"#7fbc41\"], [0.9, \"#4d9221\"], [1, \"#276419\"]], \"sequential\": [[0.0, \"#0d0887\"], [0.1111111111111111, \"#46039f\"], [0.2222222222222222, \"#7201a8\"], [0.3333333333333333, \"#9c179e\"], [0.4444444444444444, \"#bd3786\"], [0.5555555555555556, \"#d8576b\"], [0.6666666666666666, \"#ed7953\"], [0.7777777777777778, \"#fb9f3a\"], [0.8888888888888888, \"#fdca26\"], [1.0, \"#f0f921\"]], \"sequentialminus\": [[0.0, \"#0d0887\"], [0.1111111111111111, \"#46039f\"], [0.2222222222222222, \"#7201a8\"], [0.3333333333333333, \"#9c179e\"], [0.4444444444444444, \"#bd3786\"], [0.5555555555555556, \"#d8576b\"], [0.6666666666666666, \"#ed7953\"], [0.7777777777777778, \"#fb9f3a\"], [0.8888888888888888, \"#fdca26\"], [1.0, \"#f0f921\"]]}, \"colorway\": [\"#636efa\", \"#EF553B\", \"#00cc96\", \"#ab63fa\", \"#FFA15A\", \"#19d3f3\", \"#FF6692\", \"#B6E880\", \"#FF97FF\", \"#FECB52\"], \"font\": {\"color\": \"#2a3f5f\"}, \"geo\": {\"bgcolor\": \"white\", \"lakecolor\": \"white\", \"landcolor\": \"#E5ECF6\", \"showlakes\": true, \"showland\": true, \"subunitcolor\": \"white\"}, \"hoverlabel\": {\"align\": \"left\"}, \"hovermode\": \"closest\", \"mapbox\": {\"style\": \"light\"}, \"paper_bgcolor\": \"white\", \"plot_bgcolor\": \"#E5ECF6\", \"polar\": {\"angularaxis\": {\"gridcolor\": \"white\", \"linecolor\": \"white\", \"ticks\": \"\"}, \"bgcolor\": \"#E5ECF6\", \"radialaxis\": {\"gridcolor\": \"white\", \"linecolor\": \"white\", \"ticks\": \"\"}}, \"scene\": {\"xaxis\": {\"backgroundcolor\": \"#E5ECF6\", \"gridcolor\": \"white\", \"gridwidth\": 2, \"linecolor\": \"white\", \"showbackground\": true, \"ticks\": \"\", \"zerolinecolor\": \"white\"}, \"yaxis\": {\"backgroundcolor\": \"#E5ECF6\", \"gridcolor\": \"white\", \"gridwidth\": 2, \"linecolor\": \"white\", \"showbackground\": true, \"ticks\": \"\", \"zerolinecolor\": \"white\"}, \"zaxis\": {\"backgroundcolor\": \"#E5ECF6\", \"gridcolor\": \"white\", \"gridwidth\": 2, \"linecolor\": \"white\", \"showbackground\": true, \"ticks\": \"\", \"zerolinecolor\": \"white\"}}, \"shapedefaults\": {\"line\": {\"color\": \"#2a3f5f\"}}, \"ternary\": {\"aaxis\": {\"gridcolor\": \"white\", \"linecolor\": \"white\", \"ticks\": \"\"}, \"baxis\": {\"gridcolor\": \"white\", \"linecolor\": \"white\", \"ticks\": \"\"}, \"bgcolor\": \"#E5ECF6\", \"caxis\": {\"gridcolor\": \"white\", \"linecolor\": \"white\", \"ticks\": \"\"}}, \"title\": {\"x\": 0.05}, \"xaxis\": {\"automargin\": true, \"gridcolor\": \"white\", \"linecolor\": \"white\", \"ticks\": \"\", \"title\": {\"standoff\": 15}, \"zerolinecolor\": \"white\", \"zerolinewidth\": 2}, \"yaxis\": {\"automargin\": true, \"gridcolor\": \"white\", \"linecolor\": \"white\", \"ticks\": \"\", \"title\": {\"standoff\": 15}, \"zerolinecolor\": \"white\", \"zerolinewidth\": 2}}}},\n",
              "                        {\"responsive\": true}\n",
              "                    ).then(function(){\n",
              "                            \n",
              "var gd = document.getElementById('e846b525-c2fb-467a-9238-cd8723a50a1e');\n",
              "var x = new MutationObserver(function (mutations, observer) {{\n",
              "        var display = window.getComputedStyle(gd).display;\n",
              "        if (!display || display === 'none') {{\n",
              "            console.log([gd, 'removed!']);\n",
              "            Plotly.purge(gd);\n",
              "            observer.disconnect();\n",
              "        }}\n",
              "}});\n",
              "\n",
              "// Listen for the removal of the full notebook cells\n",
              "var notebookContainer = gd.closest('#notebook-container');\n",
              "if (notebookContainer) {{\n",
              "    x.observe(notebookContainer, {childList: true});\n",
              "}}\n",
              "\n",
              "// Listen for the clearing of the current output cell\n",
              "var outputEl = gd.closest('.output');\n",
              "if (outputEl) {{\n",
              "    x.observe(outputEl, {childList: true});\n",
              "}}\n",
              "\n",
              "                        })\n",
              "                };\n",
              "                \n",
              "            </script>\n",
              "        </div>\n",
              "</body>\n",
              "</html>"
            ]
          },
          "metadata": {
            "tags": []
          }
        }
      ]
    },
    {
      "cell_type": "markdown",
      "metadata": {
        "id": "XjpHU4ZrnrNv"
      },
      "source": [
        "## From configuration of the N = 200 system, we can say that system has not reached to its ground state yet and more number of MC steps are still needed to reach ground state. "
      ]
    }
  ]
}
